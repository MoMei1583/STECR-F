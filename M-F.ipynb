{
 "cells": [
  {
   "cell_type": "markdown",
   "metadata": {},
   "source": [
    "# M-F"
   ]
  },
  {
   "cell_type": "code",
   "execution_count": 3,
   "metadata": {},
   "outputs": [
    {
     "name": "stderr",
     "output_type": "stream",
     "text": [
      "C:\\Users\\admin 1\\AppData\\Local\\Temp\\ipykernel_50596\\2501757353.py:62: DeprecationWarning: Conversion of an array with ndim > 0 to a scalar is deprecated, and will error in future. Ensure you extract a single element from your array before performing this operation. (Deprecated NumPy 1.25.)\n",
      "  filtered_data[i, j] = mode(window, axis=None).mode\n"
     ]
    },
    {
     "name": "stdout",
     "output_type": "stream",
     "text": [
      "Code Runtime: 1.6624s\n"
     ]
    }
   ],
   "source": [
    "import os\n",
    "import numpy as np\n",
    "from scipy.ndimage import gaussian_filter, uniform_filter, median_filter\n",
    "import rasterio\n",
    "from scipy.ndimage import generic_filter\n",
    "from scipy.stats import mode\n",
    "\n",
    "def read_raster(file_path):\n",
    "    with rasterio.open(file_path) as src:\n",
    "        data = src.read(1)\n",
    "        profile = src.profile\n",
    "    return data, profile\n",
    "\n",
    "def save_raster(data, profile, output_path):\n",
    "    with rasterio.open(output_path, 'w', **profile) as dst:\n",
    "        dst.write(data, 1)\n",
    "\n",
    "\n",
    "# def apply_mean_filter(data, size=3):\n",
    "#     filtered_data = uniform_filter(data, size=size)\n",
    "#     filtered_data = np.round(filtered_data).astype(int)\n",
    "#     filtered_data = np.clip(filtered_data, 0, 6)\n",
    "#     return filtered_data\n",
    "\n",
    "def apply_mode_filter(data, size=3):\n",
    "    \"\"\"\n",
    "    Applies plurality filtering to the input 2D data and handles the boundary case, the boundary fill value (-1) is not involved in the calculation.\n",
    "    \n",
    "    Parameters:\n",
    "    - data: input data (two-dimensional array)\n",
    "    - size: size of the filter window (default is 3, i.e. 3x3 window)\n",
    "    \n",
    "    return:\n",
    "    - The data after the multinomial filtering\n",
    "    \"\"\"\n",
    "    # Getting the shape of the data\n",
    "    rows, cols = data.shape\n",
    "    \n",
    "    # Fill the data at the boundary, the filling method can be chosen according to the demand, here use 'constant' to fill -1\n",
    "    padded_data = np.pad(data, pad_width=size//2, mode='constant', constant_values=-1)\n",
    "    \n",
    "    # Create a new array to store the filtered data\n",
    "    filtered_data = np.zeros_like(data)\n",
    "    \n",
    "    # Iterate over each element of the data array (skip boundaries)\n",
    "    for i in range(rows):\n",
    "        for j in range(cols):\n",
    "            # Get the range of the window (using populated data)\n",
    "            row_min = i\n",
    "            row_max = i + size\n",
    "            col_min = j\n",
    "            col_max = j + size\n",
    "            \n",
    "            # Extract the value in the window (from the populated data)\n",
    "            window = padded_data[row_min:row_max, col_min:col_max]\n",
    "            \n",
    "            # Remove elements with a value of -1\n",
    "            window = window[window != -1]\n",
    "            \n",
    "            # Calculate the plural if there are valid values in the window\n",
    "            if window.size > 0:\n",
    "                filtered_data[i, j] = mode(window, axis=None).mode\n",
    "            else:\n",
    "                # If there is no valid value, then you can choose the default value, which is set here to -1\n",
    "                filtered_data[i, j] = -1\n",
    "    \n",
    "    return filtered_data\n",
    "\n",
    "# Get the directory where the current script is located\n",
    "base_path = os.path.abspath('')  \n",
    "\n",
    "# Define image paths and output paths\n",
    "images_paths = [\n",
    "    os.path.join(base_path, 'data', 'PITSCM', 'TS_2020_RF.tif'),\n",
    "]\n",
    "\n",
    "output_paths = os.path.join(base_path, 'data', 'M-F', 'TS_2020_RF_M-F.tif')\n",
    "\n",
    "# Read raster data\n",
    "data, profile = read_raster(images_paths[0])\n",
    "\n",
    "import time\n",
    "# Record code start time\n",
    "start_time = time.time()\n",
    "# Apply M-F and save\n",
    "mean_filtered_data = apply_mode_filter(data, size=3)\n",
    "\n",
    "# Record code end time\n",
    "end_time = time.time()\n",
    "# Output runtime\n",
    "print(f\"Code Runtime: {end_time - start_time:.4f}s\")\n",
    "save_raster(mean_filtered_data, profile, output_paths)\n"
   ]
  }
 ],
 "metadata": {
  "kernelspec": {
   "display_name": "gee",
   "language": "python",
   "name": "python3"
  },
  "language_info": {
   "codemirror_mode": {
    "name": "ipython",
    "version": 3
   },
   "file_extension": ".py",
   "mimetype": "text/x-python",
   "name": "python",
   "nbconvert_exporter": "python",
   "pygments_lexer": "ipython3",
   "version": "3.10.13"
  }
 },
 "nbformat": 4,
 "nbformat_minor": 2
}
